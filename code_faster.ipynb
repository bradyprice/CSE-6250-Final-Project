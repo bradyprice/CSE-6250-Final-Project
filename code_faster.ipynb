{
 "cells": [
  {
   "cell_type": "code",
   "execution_count": null,
   "metadata": {},
   "outputs": [],
   "source": [
    "import numpy as np\n",
    "import pandas as pd\n",
    "from collections import defaultdict\n",
    "from sklearn.metrics.pairwise import cosine_similarity\n",
    "from scipy.sparse import lil_matrix, csr_matrix\n",
    "\n",
    "def load_term_id_to_string(file_paths):\n",
    "    \"\"\" Load multiple term ID to string mappings and merge them into a single dictionary. \"\"\"\n",
    "    term_id_map = {}\n",
    "\n",
    "    for file_path in file_paths:\n",
    "        with open(file_path, 'r', encoding='utf-8', errors='ignore') as f:\n",
    "            for line in f:\n",
    "                try:\n",
    "                    term_id, term_str = line.strip().split(\"\\t\")\n",
    "                    #print(term_id, term_str)\n",
    "                    term_id_map[term_id] = term_str\n",
    "                except ValueError:\n",
    "                    continue  # Skip malformed lines\n",
    "\n",
    "    return term_id_map\n",
    "\n",
    "\n",
    "def load_singleton_frequencies(file_path, term_id_map):\n",
    "    \"\"\" Load singleton frequencies and convert IDs to terms \"\"\"\n",
    "    singleton_freq = {}\n",
    "    with open(file_path, 'r', encoding='utf-8', errors='ignore') as f:\n",
    "        for line in f:\n",
    "            term_id, count = line.strip().split(\"\\t\")\n",
    "            term_str = term_id_map.get(term_id, f\"UNK_{term_id}\")\n",
    "            singleton_freq[term_str] = int(count)\n",
    "    return singleton_freq\n",
    "\n",
    "def load_cofreq_counts(file_path, term_id_map):\n",
    "    \"\"\" Load cofrequency counts and convert IDs to terms \"\"\"\n",
    "    cofreq_counts = []\n",
    "    with open(file_path, 'r', encoding='utf-8', errors='ignore') as f:\n",
    "        for line in f:\n",
    "            term1_id, term2_id, count = line.strip().split(\"\\t\")\n",
    "            term1_str = term_id_map.get(term1_id, f\"UNK_{term1_id}\")\n",
    "            term2_str = term_id_map.get(term2_id, f\"UNK_{term2_id}\")\n",
    "            cofreq_counts.append((term1_str, term2_str, int(count)))\n",
    "    return cofreq_counts\n",
    "\n",
    "def compute_pmi(cofreq_counts, singleton_freq, total_count, k=1):\n",
    "    \"\"\" Compute PMI using NumPy for better performance \"\"\"\n",
    "    terms = list(singleton_freq.keys())\n",
    "    term_index = {term: i for i, term in enumerate(terms)}\n",
    "    \n",
    "    pmi_matrix = lil_matrix((len(terms), len(terms)), dtype=np.float32)  # Sparse matrix\n",
    "    \n",
    "    for term1, term2, co_count in cofreq_counts:\n",
    "        if term1 not in term_index or term2 not in term_index:\n",
    "            continue\n",
    "        \n",
    "        i, j = term_index[term1], term_index[term2]\n",
    "        p_x = singleton_freq.get(term1, 1) / total_count\n",
    "        p_y = singleton_freq.get(term2, 1) / total_count\n",
    "        p_xy = co_count / total_count\n",
    "        \n",
    "        pmi = np.log2((p_xy + k) / (p_x * p_y + k))\n",
    "        pmi_matrix[i, j] = pmi\n",
    "        pmi_matrix[j, i] = pmi  # Since PMI is symmetric\n",
    "\n",
    "    return pmi_matrix.tocsr(), term_index  # Convert to efficient sparse CSR format\n",
    "\n",
    "def find_synonyms(pmi_matrix, term_index, target_word, top_n=5):\n",
    "    \"\"\" Find synonyms using cosine similarity with sparse matrices \"\"\"\n",
    "    if target_word not in term_index:\n",
    "        print(f\"Word '{target_word}' not found in vocabulary.\")\n",
    "        return []\n",
    "    \n",
    "    words = list(term_index.keys())\n",
    "    target_vector = pmi_matrix[term_index[target_word]].reshape(1, -1)\n",
    "    \n",
    "    similarities = cosine_similarity(target_vector, pmi_matrix)[0]\n",
    "    sorted_indices = np.argsort(similarities)[::-1]  # Descending order\n",
    "    \n",
    "    return [(words[i], similarities[i]) for i in sorted_indices if words[i] != target_word][:top_n]\n",
    "\n",
    "# File paths\n",
    "mapping_files = [\n",
    "    \"../3_ID_Mappings/1_term_ID_to_string.txt\"\n",
    "    ,\"../3_ID_Mappings/2a_concept_ID_to_string.txt\"\n",
    "    # ,\"../3_ID_Mappings/2b_concept_ID_to_CUI.txt\"\n",
    "    # ,\"../3_ID_Mappings/3_term_ID_to_concept_ID.txt\"\n",
    "]\n",
    "\n",
    "singleton_file = \"../2_Singleton_Frequency_Counts/singlets_concepts_perBin_1d.txt\"\n",
    "cofreq_file = \"../1_Cofrequency_Counts/cofreqs_concepts_perBin_1d.txt\"\n",
    "term_id_map = load_term_id_to_string(mapping_files)\n",
    "\n",
    "# Test files\n",
    "# singleton_file = \"../2_Singleton_Frequency_Counts/singleton_test.txt\"\n",
    "# cofreq_file = \"../1_Cofrequency_Counts/cofreq_test.txt\"\n",
    "# term_map_file = \"../3_ID_Mappings/term_id_to_string_test.txt\"\n",
    "\n",
    "# Load data\n",
    "singleton_freq = load_singleton_frequencies(singleton_file, term_id_map)\n",
    "cofreq_counts = load_cofreq_counts(cofreq_file, term_id_map)\n",
    "total_count = sum(singleton_freq.values())\n",
    "\n",
    "# Compute PMI matrix (sparse)\n",
    "pmi_matrix, term_index = compute_pmi(cofreq_counts, singleton_freq, total_count)\n"
   ]
  },
  {
   "cell_type": "code",
   "execution_count": 20,
   "metadata": {},
   "outputs": [
    {
     "data": {
      "text/plain": [
       "'history'"
      ]
     },
     "execution_count": 20,
     "metadata": {},
     "output_type": "execute_result"
    }
   ],
   "source": [
    "term_id_map['9']"
   ]
  },
  {
   "cell_type": "code",
   "execution_count": 26,
   "metadata": {},
   "outputs": [
    {
     "data": {
      "text/plain": [
       "23206"
      ]
     },
     "execution_count": 26,
     "metadata": {},
     "output_type": "execute_result"
    }
   ],
   "source": [
    "len(term_index)"
   ]
  },
  {
   "cell_type": "code",
   "execution_count": 25,
   "metadata": {},
   "outputs": [
    {
     "name": "stdout",
     "output_type": "stream",
     "text": [
      "Top synonyms for 'leukemia':\n",
      "lymphoid leukemia: 0.9575\n",
      "disease remission: 0.9526\n",
      "precursor cell lymphoblastic leukemia lymphoma: 0.9510\n",
      "cytarabine: 0.9498\n",
      "chromosomal translocation: 0.9491\n"
     ]
    }
   ],
   "source": [
    "# Find synonyms\n",
    "target_word = \"leukemia\"\n",
    "synonyms = find_synonyms(pmi_matrix, term_index, target_word)\n",
    "\n",
    "# Output results\n",
    "print(f\"Top synonyms for '{target_word}':\")\n",
    "for word, score in synonyms:\n",
    "    print(f\"{word}: {score:.4f}\")"
   ]
  }
 ],
 "metadata": {
  "kernelspec": {
   "display_name": "cse_6250_project",
   "language": "python",
   "name": "python3"
  },
  "language_info": {
   "codemirror_mode": {
    "name": "ipython",
    "version": 3
   },
   "file_extension": ".py",
   "mimetype": "text/x-python",
   "name": "python",
   "nbconvert_exporter": "python",
   "pygments_lexer": "ipython3",
   "version": "3.9.21"
  }
 },
 "nbformat": 4,
 "nbformat_minor": 2
}
