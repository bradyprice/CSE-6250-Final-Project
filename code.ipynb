{
 "cells": [
  {
   "cell_type": "code",
   "execution_count": 1,
   "metadata": {},
   "outputs": [],
   "source": [
    "import numpy as np\n",
    "import pandas as pd\n",
    "from collections import defaultdict\n",
    "from sklearn.metrics.pairwise import cosine_similarity\n",
    "\n",
    "def load_singleton_frequencies(file_path, term_id_map):\n",
    "    singleton_freq = {}\n",
    "    with open(file_path, 'r') as f:\n",
    "        for line in f:\n",
    "            term_id, count = line.strip().split(\"\\t\")\n",
    "            term_str = term_id_map.get(term_id, f\"UNK_{term_id}\")  # Use ID if mapping is missing\n",
    "            singleton_freq[term_str] = int(count)\n",
    "    return singleton_freq\n",
    "\n",
    "def load_cofreq_counts(file_path, term_id_map):\n",
    "    cofreq_counts = {}\n",
    "    with open(file_path, 'r') as f:\n",
    "        for line in f:\n",
    "            term1_id, term2_id, count = line.strip().split(\"\\t\")\n",
    "            term1_str = term_id_map.get(term1_id, f\"UNK_{term1_id}\")\n",
    "            term2_str = term_id_map.get(term2_id, f\"UNK_{term2_id}\")\n",
    "            cofreq_counts[(term1_str, term2_str)] = int(count)\n",
    "    return cofreq_counts\n",
    "\n"
   ]
  },
  {
   "cell_type": "code",
   "execution_count": 2,
   "metadata": {},
   "outputs": [],
   "source": [
    "def load_term_id_to_string(file_path):\n",
    "    term_id_map = {}\n",
    "    with open(file_path, 'r', encoding='utf-8', errors='ignore') as f:\n",
    "        for line in f:\n",
    "            try:\n",
    "                term_id, term_str = line.strip().split(\"\\t\")\n",
    "                term_id_map[term_id] = term_str\n",
    "            except ValueError:\n",
    "                print(f\"Skipping invalid line in {file_path}: {line}\")\n",
    "    return term_id_map\n"
   ]
  },
  {
   "cell_type": "code",
   "execution_count": 3,
   "metadata": {},
   "outputs": [],
   "source": [
    "def compute_pmi(cofreq_counts, singleton_freq, total_count, k=1):\n",
    "    pmi_matrix = {}\n",
    "\n",
    "    for (term1, term2), co_count in cofreq_counts.items():\n",
    "        p_x = singleton_freq.get(term1, 1) / total_count\n",
    "        p_y = singleton_freq.get(term2, 1) / total_count\n",
    "        p_xy = co_count / total_count\n",
    "\n",
    "        # Apply smoothing (Laplace-style to avoid zero division)\n",
    "        pmi = np.log2((p_xy + k) / (p_x * p_y + k))\n",
    "        pmi_matrix[(term1, term2)] = pmi\n",
    "\n",
    "    return pmi_matrix\n"
   ]
  },
  {
   "cell_type": "code",
   "execution_count": 4,
   "metadata": {},
   "outputs": [],
   "source": [
    "def build_pmi_vectors(pmi_matrix):\n",
    "    word_vectors = defaultdict(lambda: np.zeros(len(set([t for pair in pmi_matrix.keys() for t in pair]))))\n",
    "    word_index = {word: i for i, word in enumerate(set([t for pair in pmi_matrix.keys() for t in pair]))}\n",
    "\n",
    "    for (term1, term2), pmi in pmi_matrix.items():\n",
    "        word_vectors[term1][word_index[term2]] = pmi\n",
    "        word_vectors[term2][word_index[term1]] = pmi  # Since PMI is symmetric\n",
    "\n",
    "    return word_vectors, word_index\n"
   ]
  },
  {
   "cell_type": "code",
   "execution_count": 5,
   "metadata": {},
   "outputs": [],
   "source": [
    "def find_synonyms(word_vectors, word_index, target_word, top_n=5):\n",
    "    if target_word not in word_vectors:\n",
    "        print(f\"Word '{target_word}' not found in vocabulary.\")\n",
    "        return []\n",
    "\n",
    "    words = list(word_index.keys())\n",
    "    vec_matrix = np.array([word_vectors[w] for w in words])\n",
    "\n",
    "    # Compute cosine similarity\n",
    "    target_vector = word_vectors[target_word].reshape(1, -1)\n",
    "    similarities = cosine_similarity(target_vector, vec_matrix)[0]\n",
    "\n",
    "    # Rank terms by similarity\n",
    "    sorted_indices = np.argsort(similarities)[::-1]\n",
    "    return [(words[i], similarities[i]) for i in sorted_indices if words[i] != target_word][:top_n]\n"
   ]
  },
  {
   "cell_type": "code",
   "execution_count": 6,
   "metadata": {},
   "outputs": [
    {
     "ename": "KeyboardInterrupt",
     "evalue": "",
     "output_type": "error",
     "traceback": [
      "\u001b[1;31m---------------------------------------------------------------------------\u001b[0m",
      "\u001b[1;31mKeyboardInterrupt\u001b[0m                         Traceback (most recent call last)",
      "Cell \u001b[1;32mIn[6], line 6\u001b[0m\n\u001b[0;32m      3\u001b[0m cofreq_file \u001b[38;5;241m=\u001b[39m \u001b[38;5;124m\"\u001b[39m\u001b[38;5;124m../1_Cofrequency_Counts/cofreqs_concepts_perBin_1d.txt\u001b[39m\u001b[38;5;124m\"\u001b[39m\n\u001b[0;32m      4\u001b[0m term_map_file \u001b[38;5;241m=\u001b[39m \u001b[38;5;124m\"\u001b[39m\u001b[38;5;124m../3_ID_Mappings/1_term_ID_to_string.txt\u001b[39m\u001b[38;5;124m\"\u001b[39m\n\u001b[1;32m----> 6\u001b[0m term_id_map \u001b[38;5;241m=\u001b[39m \u001b[43mload_term_id_to_string\u001b[49m\u001b[43m(\u001b[49m\u001b[43mterm_map_file\u001b[49m\u001b[43m)\u001b[49m\n\u001b[0;32m      8\u001b[0m \u001b[38;5;66;03m# Load Data\u001b[39;00m\n\u001b[0;32m      9\u001b[0m singleton_freq \u001b[38;5;241m=\u001b[39m load_singleton_frequencies(singleton_file)\n",
      "Cell \u001b[1;32mIn[2], line 4\u001b[0m, in \u001b[0;36mload_term_id_to_string\u001b[1;34m(file_path)\u001b[0m\n\u001b[0;32m      2\u001b[0m term_id_map \u001b[38;5;241m=\u001b[39m {}\n\u001b[0;32m      3\u001b[0m \u001b[38;5;28;01mwith\u001b[39;00m \u001b[38;5;28mopen\u001b[39m(file_path, \u001b[38;5;124m'\u001b[39m\u001b[38;5;124mr\u001b[39m\u001b[38;5;124m'\u001b[39m, encoding\u001b[38;5;241m=\u001b[39m\u001b[38;5;124m'\u001b[39m\u001b[38;5;124mutf-8\u001b[39m\u001b[38;5;124m'\u001b[39m, errors\u001b[38;5;241m=\u001b[39m\u001b[38;5;124m'\u001b[39m\u001b[38;5;124mignore\u001b[39m\u001b[38;5;124m'\u001b[39m) \u001b[38;5;28;01mas\u001b[39;00m f:\n\u001b[1;32m----> 4\u001b[0m     \u001b[38;5;28;01mfor\u001b[39;00m line \u001b[38;5;129;01min\u001b[39;00m f:\n\u001b[0;32m      5\u001b[0m         \u001b[38;5;28;01mtry\u001b[39;00m:\n\u001b[0;32m      6\u001b[0m             term_id, term_str \u001b[38;5;241m=\u001b[39m line\u001b[38;5;241m.\u001b[39mstrip()\u001b[38;5;241m.\u001b[39msplit(\u001b[38;5;124m\"\u001b[39m\u001b[38;5;130;01m\\t\u001b[39;00m\u001b[38;5;124m\"\u001b[39m)\n",
      "File \u001b[1;32mc:\\Users\\brady\\anaconda3\\envs\\cse_6250_project\\lib\\codecs.py:319\u001b[0m, in \u001b[0;36mBufferedIncrementalDecoder.decode\u001b[1;34m(self, input, final)\u001b[0m\n\u001b[0;32m    314\u001b[0m \u001b[38;5;28;01mdef\u001b[39;00m\u001b[38;5;250m \u001b[39m\u001b[38;5;21m_buffer_decode\u001b[39m(\u001b[38;5;28mself\u001b[39m, \u001b[38;5;28minput\u001b[39m, errors, final):\n\u001b[0;32m    315\u001b[0m     \u001b[38;5;66;03m# Overwrite this method in subclasses: It must decode input\u001b[39;00m\n\u001b[0;32m    316\u001b[0m     \u001b[38;5;66;03m# and return an (output, length consumed) tuple\u001b[39;00m\n\u001b[0;32m    317\u001b[0m     \u001b[38;5;28;01mraise\u001b[39;00m \u001b[38;5;167;01mNotImplementedError\u001b[39;00m\n\u001b[1;32m--> 319\u001b[0m \u001b[38;5;28;01mdef\u001b[39;00m\u001b[38;5;250m \u001b[39m\u001b[38;5;21mdecode\u001b[39m(\u001b[38;5;28mself\u001b[39m, \u001b[38;5;28minput\u001b[39m, final\u001b[38;5;241m=\u001b[39m\u001b[38;5;28;01mFalse\u001b[39;00m):\n\u001b[0;32m    320\u001b[0m     \u001b[38;5;66;03m# decode input (taking the buffer into account)\u001b[39;00m\n\u001b[0;32m    321\u001b[0m     data \u001b[38;5;241m=\u001b[39m \u001b[38;5;28mself\u001b[39m\u001b[38;5;241m.\u001b[39mbuffer \u001b[38;5;241m+\u001b[39m \u001b[38;5;28minput\u001b[39m\n\u001b[0;32m    322\u001b[0m     (result, consumed) \u001b[38;5;241m=\u001b[39m \u001b[38;5;28mself\u001b[39m\u001b[38;5;241m.\u001b[39m_buffer_decode(data, \u001b[38;5;28mself\u001b[39m\u001b[38;5;241m.\u001b[39merrors, final)\n",
      "\u001b[1;31mKeyboardInterrupt\u001b[0m: "
     ]
    }
   ],
   "source": [
    "# File paths\n",
    "singleton_file = \"../2_Singleton_Frequency_Counts/singlets_concepts_perBin_1d.txt\"\n",
    "cofreq_file = \"../1_Cofrequency_Counts/cofreqs_concepts_perBin_1d.txt\"\n",
    "term_map_file = \"../3_ID_Mappings/1_term_ID_to_string.txt\"\n",
    "\n",
    "term_id_map = load_term_id_to_string(term_map_file)\n",
    "\n",
    "# Load Data\n",
    "singleton_freq = load_singleton_frequencies(singleton_file)\n",
    "cofreq_counts = load_cofreq_counts(cofreq_file)\n",
    "total_count = sum(singleton_freq.values())\n",
    "\n",
    "# Compute PMI\n",
    "pmi_matrix = compute_pmi(cofreq_counts, singleton_freq, total_count)\n",
    "\n",
    "# Convert PMI into word vectors\n",
    "word_vectors, word_index = build_pmi_vectors(pmi_matrix)\n",
    "\n",
    "# Find synonyms for a given word\n",
    "target_word = \"heart_attack\"\n",
    "synonyms = find_synonyms(word_vectors, word_index, target_word)\n",
    "\n",
    "print(f\"Top synonyms for '{target_word}':\")\n",
    "for word, score in synonyms:\n",
    "    print(f\"{word}: {score:.4f}\")\n"
   ]
  },
  {
   "cell_type": "code",
   "execution_count": null,
   "metadata": {},
   "outputs": [],
   "source": [
    "\n"
   ]
  }
 ],
 "metadata": {
  "kernelspec": {
   "display_name": "cse_6250_project",
   "language": "python",
   "name": "python3"
  },
  "language_info": {
   "codemirror_mode": {
    "name": "ipython",
    "version": 3
   },
   "file_extension": ".py",
   "mimetype": "text/x-python",
   "name": "python",
   "nbconvert_exporter": "python",
   "pygments_lexer": "ipython3",
   "version": "3.9.21"
  }
 },
 "nbformat": 4,
 "nbformat_minor": 2
}
